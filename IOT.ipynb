{
 "cells": [
  {
   "cell_type": "code",
   "execution_count": 2,
   "metadata": {},
   "outputs": [],
   "source": [
    "import requests\n",
    "\n",
    "def send_motor_command(option):\n",
    "    url = \"http://192.168.100.150/sendOption\"  # Địa chỉ IP của ESP8266\n",
    "    data = {'option': option}  # Dữ liệu gửi đi, là tùy chọn bật/tắt động cơ\n",
    "\n",
    "    try:\n",
    "        # Gửi yêu cầu POST đến ESP8266\n",
    "        response = requests.post(url, data=data)\n",
    "        # Kiểm tra phản hồi từ server\n",
    "        if response.status_code == 200:\n",
    "            print(\"Gửi thành công, Động cơ đã được điều khiển theo tùy chọn:\", option)\n",
    "        else:\n",
    "            print(\"Có lỗi xảy ra khi gửi yêu cầu:\", response.status_code)\n",
    "    except requests.exceptions.RequestException as e:\n",
    "        print(\"Không thể kết nối đến ESP8266:\", e)\n",
    "\n",
    "# Ví dụ gọi hàm để bật động cơ (option = 1)\n",
    "\n",
    "# Ví dụ gọi hàm để tắt động cơ (option = 2)\n",
    "# send_motor_command(2)"
   ]
  },
  {
   "cell_type": "code",
   "execution_count": 26,
   "metadata": {},
   "outputs": [
    {
     "name": "stdout",
     "output_type": "stream",
     "text": [
      "Gửi thành công, Động cơ đã được điều khiển theo tùy chọn: 1\n"
     ]
    }
   ],
   "source": [
    "send_motor_command(1)"
   ]
  },
  {
   "cell_type": "code",
   "execution_count": 28,
   "metadata": {},
   "outputs": [
    {
     "name": "stdout",
     "output_type": "stream",
     "text": [
      "Gửi thành công, Động cơ đã được điều khiển theo tùy chọn: 2\n"
     ]
    }
   ],
   "source": [
    "send_motor_command(2)"
   ]
  },
  {
   "cell_type": "code",
   "execution_count": 31,
   "metadata": {},
   "outputs": [
    {
     "name": "stdout",
     "output_type": "stream",
     "text": [
      "Gửi thành công, Động cơ đã được điều khiển theo tùy chọn: 3\n"
     ]
    }
   ],
   "source": [
    "send_motor_command(3)"
   ]
  },
  {
   "cell_type": "code",
   "execution_count": 32,
   "metadata": {},
   "outputs": [
    {
     "name": "stdout",
     "output_type": "stream",
     "text": [
      "Gửi thành công, Động cơ đã được điều khiển theo tùy chọn: 4\n"
     ]
    }
   ],
   "source": [
    "send_motor_command(4)"
   ]
  },
  {
   "cell_type": "markdown",
   "metadata": {},
   "source": [
    "# v1"
   ]
  },
  {
   "cell_type": "code",
   "execution_count": null,
   "metadata": {
    "vscode": {
     "languageId": "groovy"
    }
   },
   "outputs": [],
   "source": [
    "// C:\\Users\\ADMIN\\Documents\\Arduino \n",
    "// ĐỘNG CƠ DC\n",
    "#include <ESP8266WiFi.h>\n",
    "#include <ESP8266WebServer.h>\n",
    "\n",
    "// Khai báo các chân điều khiển động cơ và LED\n",
    "const int motorPin1 = D6; // Chân IN1 của mạch điều khiển động cơ\n",
    "const int motorPin2 = D5; // Chân IN2 của mạch điều khiển động cơ\n",
    "const int ledPin = D1;    // Chân kết nối LED // chân còn lại nối với điện trở sau đó nối với GND \n",
    "// 2 Chân của led cx phải cắm đúng thì mới sáng, không sáng thì đảo lại\n",
    "\n",
    "\n",
    "ESP8266WebServer server(80); // Khởi tạo server trên cổng 80\n",
    "\n",
    "void setup() {\n",
    "  Serial.begin(9600);\n",
    "  delay(1000);\n",
    "\n",
    "  // Kết nối WiFi\n",
    "  WiFi.begin(\"Day Sau\", \"0971404372\"); // SSID và mật khẩu\n",
    "  while (WiFi.waitForConnectResult() != WL_CONNECTED) {\n",
    "    Serial.println(\"Connecting...\");\n",
    "  }\n",
    "  Serial.println(\"IP: \");\n",
    "  Serial.println(WiFi.localIP());\n",
    "\n",
    "  // Thiết lập các chân điều khiển động cơ và LED là output\n",
    "  pinMode(motorPin1, OUTPUT);\n",
    "  pinMode(motorPin2, OUTPUT);\n",
    "  pinMode(ledPin, OUTPUT);\n",
    "\n",
    "  // Thiết lập server\n",
    "  server.on(\"/\", [] {\n",
    "    server.send(200, \"text/html\",\n",
    "                \"<!DOCTYPE html>\"\n",
    "                \"<html>\"\n",
    "                \"<head>\"\n",
    "                \"<title>Control DC Motor and LED</title>\"\n",
    "                \"<script>\"\n",
    "                \"function sendOption() {\"\n",
    "                \"var optionInput = document.getElementById('option');\"\n",
    "                \"var xhttp = new XMLHttpRequest();\"\n",
    "                \"var option = optionInput.value;\"\n",
    "                \"xhttp.open('POST', 'sendOption', true);\"\n",
    "                \"xhttp.setRequestHeader('Content-type', 'application/x-www-form-urlencoded');\"\n",
    "                \"xhttp.send('option=' + option);\"\n",
    "                \"}\"\n",
    "                \"</script>\"\n",
    "                \"</head>\"\n",
    "                \"<body>\"\n",
    "                \"<label>Option (1: Bật Động Cơ, 2: Tắt Động Cơ, 3: Bật LED, 4: Tắt LED): </label>\"\n",
    "                \"<input type='text' id='option'>\"\n",
    "                \"<input type='button' value='Send' onclick='sendOption()'>\"\n",
    "                \"</body>\"\n",
    "                \"</html>\");\n",
    "  });\n",
    "\n",
    "  setupRoutes(); // Thiết lập các route của server\n",
    "  server.begin(); // Khởi động server\n",
    "}\n",
    "\n",
    "void handleSendOption() {\n",
    "  if (server.hasArg(\"option\")) {\n",
    "    int option = server.arg(\"option\").toInt();\n",
    "    if (option == 1) {\n",
    "      // Bật động cơ\n",
    "      digitalWrite(motorPin1, HIGH);\n",
    "      digitalWrite(motorPin2, LOW);\n",
    "      Serial.println(\"Motor ON\");\n",
    "      server.send(200, \"text/plain\", \"Motor turned ON\");\n",
    "    } else if (option == 2) {\n",
    "      // Tắt động cơ\n",
    "      digitalWrite(motorPin1, LOW);\n",
    "      digitalWrite(motorPin2, LOW);\n",
    "      Serial.println(\"Motor OFF\");\n",
    "      server.send(200, \"text/plain\", \"Motor turned OFF\");\n",
    "    } else if (option == 3) {\n",
    "      // Bật LED\n",
    "      digitalWrite(ledPin, HIGH);\n",
    "      Serial.println(\"LED ON\");\n",
    "      server.send(200, \"text/plain\", \"LED turned ON\");\n",
    "    } else if (option == 4) {\n",
    "      // Tắt LED\n",
    "      digitalWrite(ledPin, LOW);\n",
    "      Serial.println(\"LED OFF\");\n",
    "      server.send(200, \"text/plain\", \"LED turned OFF\");\n",
    "    } else {\n",
    "      server.send(400, \"text/plain\", \"Invalid option\");\n",
    "    }\n",
    "  } else {\n",
    "    server.send(400, \"text/plain\", \"Missing 'option' parameter\");\n",
    "  }\n",
    "}\n",
    "\n",
    "void setupRoutes() {\n",
    "  server.on(\"/sendOption\", handleSendOption); // Route để xử lý tùy chọn điều khiển\n",
    "}\n",
    "\n",
    "void loop() {\n",
    "  server.handleClient(); // Xử lý các yêu cầu từ client\n",
    "}\n"
   ]
  }
 ],
 "metadata": {
  "kernelspec": {
   "display_name": "base",
   "language": "python",
   "name": "python3"
  },
  "language_info": {
   "codemirror_mode": {
    "name": "ipython",
    "version": 3
   },
   "file_extension": ".py",
   "mimetype": "text/x-python",
   "name": "python",
   "nbconvert_exporter": "python",
   "pygments_lexer": "ipython3",
   "version": "3.11.7"
  }
 },
 "nbformat": 4,
 "nbformat_minor": 2
}
